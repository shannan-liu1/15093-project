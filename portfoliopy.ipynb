{
 "cells": [
  {
   "cell_type": "code",
   "execution_count": 28,
   "metadata": {},
   "outputs": [],
   "source": [
    "# import pandas and gurobi\n",
    "import pandas as pd\n",
    "from gurobipy import *\n",
    "import numpy as np\n"
   ]
  },
  {
   "cell_type": "code",
   "execution_count": 29,
   "metadata": {},
   "outputs": [],
   "source": [
    "# read in csv\n",
    "r = pd.read_csv(\"/Users/zachwayne/Documents/GitHub/15093-project/2019_monthly_data/monthly_returns_2019.csv\")\n",
    "s = pd.read_csv(\"/Users/zachwayne/Documents/GitHub/15093-project/2019_monthly_data/sectors_2019.csv\")\n",
    "p = pd.read_csv(\"/Users/zachwayne/Documents/GitHub/15093-project/2019_monthly_data/monthly_prices_2019.csv\")\n",
    "cor = pd.read_csv(\"/Users/zachwayne/Documents/GitHub/15093-project/2019_monthly_data/corr_2019.csv\")\n",
    "cov = pd.read_csv(\"/Users/zachwayne/Documents/GitHub/15093-project/2019_monthly_data/cov_2019.csv\")\n",
    "vol = pd.read_csv(\"/Users/zachwayne/Documents/GitHub/15093-project/2019_monthly_data/monthly_volume_2019.csv\")\n",
    "cov = cov.drop(columns=['Unnamed: 0'])\n",
    "s = s.drop(columns=['Symbol'])\n",
    "p = p.drop(columns=['Date'])\n",
    "r = r.drop(columns=['Date'])\n",
    "cor = cor.drop(columns=['Unnamed: 0'])\n",
    "vol = vol.drop(columns=['Date'])\n",
    "# cast vol to float\n",
    "vol = vol.astype(float)"
   ]
  },
  {
   "cell_type": "code",
   "execution_count": 30,
   "metadata": {},
   "outputs": [],
   "source": [
    "# make model\n",
    "stocks = len(s)\n",
    "k = 20\n",
    "total = 100000"
   ]
  },
  {
   "cell_type": "code",
   "execution_count": 33,
   "metadata": {},
   "outputs": [
    {
     "name": "stdout",
     "output_type": "stream",
     "text": [
      "Gurobi Optimizer version 9.5.2 build v9.5.2rc0 (mac64[rosetta2])\n",
      "Thread count: 8 physical cores, 8 logical processors, using up to 8 threads\n",
      "Optimize a model with 1922 rows, 1431 columns and 5724 nonzeros\n",
      "Model fingerprint: 0x366ebee7\n",
      "Model has 114003 quadratic objective terms\n",
      "Model has 1 quadratic constraint\n",
      "Variable types: 477 continuous, 954 integer (477 binary)\n",
      "Coefficient statistics:\n",
      "  Matrix range     [2e-05, 2e+03]\n",
      "  QMatrix range    [1e-08, 1e-01]\n",
      "  Objective range  [6e-04, 3e-01]\n",
      "  QObjective range [2e-08, 2e-01]\n",
      "  Bounds range     [1e+00, 1e+00]\n",
      "  RHS range        [1e+00, 3e+05]\n",
      "  QRHS range       [1e-03, 1e-03]\n",
      "Presolve time: 0.10s\n",
      "Presolved: 1922 rows, 1431 columns, 5724 nonzeros\n",
      "Presolved model has 114003 quadratic objective terms\n",
      "Presolved model has 1 quadratic constraint(s)\n",
      "Variable types: 477 continuous, 954 integer (477 binary)\n",
      "\n",
      "Root relaxation: objective -6.186942e-02, 2417 iterations, 0.06 seconds (0.06 work units)\n",
      "\n",
      "    Nodes    |    Current Node    |     Objective Bounds      |     Work\n",
      " Expl Unexpl |  Obj  Depth IntInf | Incumbent    BestBd   Gap | It/Node Time\n",
      "\n",
      "     0     0   -0.06187    0    4          -   -0.06187      -     -    0s\n",
      "     0     0   -0.05746    0    2          -   -0.05746      -     -    0s\n",
      "     0     0   -0.04897    0    4          -   -0.04897      -     -    0s\n",
      "     0     0   -0.04751    0    5          -   -0.04751      -     -    0s\n",
      "H    0     0                      -0.0421697   -0.04751  12.7%     -    0s\n",
      "H    0     0                      -0.0437774   -0.04751  8.52%     -    0s\n",
      "     0     0   -0.04720    0    5   -0.04378   -0.04720  7.81%     -    0s\n",
      "H    0     0                      -0.0445282   -0.04720  6.00%     -    1s\n",
      "     0     0   -0.04650    0    5   -0.04453   -0.04650  4.43%     -    1s\n",
      "     0     0   -0.04629    0    5   -0.04453   -0.04629  3.95%     -    1s\n",
      "     0     0   -0.04621    0    6   -0.04453   -0.04621  3.77%     -    1s\n",
      "     0     0   -0.04621    0    6   -0.04453   -0.04621  3.77%     -    2s\n",
      "     0     2   -0.04621    0    6   -0.04453   -0.04621  3.77%     -    2s\n",
      "H   31    40                      -0.0452121   -0.04621  2.20%   9.5    3s\n",
      "H   65   120                      -0.0452137   -0.04621  2.19%  13.3    3s\n",
      "H   73   120                      -0.0452376   -0.04621  2.14%  13.4    3s\n",
      "H   80   120                      -0.0452561   -0.04621  2.10%  13.7    3s\n",
      "H  259   346                      -0.0453790   -0.04621  1.82%   8.5    4s\n",
      "H  779   774                      -0.0454208   -0.04621  1.73%  10.1    4s\n",
      "   919   981   -0.04590  131    2   -0.04542   -0.04621  1.73%  11.2    5s\n",
      "H 1094  1049                      -0.0454246   -0.04621  1.72%  12.1    5s\n",
      "  2008  1775   -0.04548   23  260   -0.04542   -0.04549  0.14%  14.8   10s\n",
      "  2357  2008     cutoff   47        -0.04542   -0.04549  0.14%  12.6   17s\n",
      "  2768  2022   -0.04545   31  295   -0.04542   -0.04549  0.14%  10.7   22s\n",
      "  3267  1939   -0.04548   28  280   -0.04542   -0.04549  0.14%   9.1   26s\n",
      "  3309  2081     cutoff   31        -0.04542   -0.04549  0.14%   9.0   30s\n",
      "  4131  2175   -0.04543   42  263   -0.04542   -0.04548  0.13%   7.2   38s\n",
      "  4493  2289   -0.04548   34  267   -0.04542   -0.04548  0.13%   6.6   43s\n",
      "  4914  2532   -0.04547   54  205   -0.04542   -0.04548  0.13%   6.0   49s\n",
      "H 4924  1918                      -0.0454499   -0.04548  0.08%   6.0   49s\n",
      "  5557  1620   -0.04548   31  206   -0.04545   -0.04548  0.08%   5.3   55s\n",
      "  6082  1617   -0.04548   57  199   -0.04545   -0.04548  0.08%   4.9   62s\n",
      "  6585  1770   -0.04548   30  269   -0.04545   -0.04548  0.08%   4.5   71s\n",
      "  7443  2033   -0.04548   33  211   -0.04545   -0.04548  0.08%   4.0   81s\n",
      "H 7495  2033                      -0.0454499   -0.04548  0.08%   4.0   81s\n",
      "H 8037  2033                      -0.0454499   -0.04548  0.08%   3.7   81s\n",
      "H 8137  1197                      -0.0454725   -0.04548  0.03%   3.7   81s\n",
      "  8242  1137     cutoff   41        -0.04547   -0.04548  0.03%   3.6   87s\n",
      "H 8563  1135                      -0.0454726   -0.04548  0.03%   3.5   87s\n",
      "  8706  1379   -0.04548   47  216   -0.04547   -0.04548  0.03%   3.4   95s\n",
      "H 8834  1379                      -0.0454726   -0.04548  0.03%   3.4   95s\n",
      "  9175  1539   -0.04548   37  485   -0.04547   -0.04548  0.03%   3.2  103s\n",
      "  9669  1782   -0.04548   38   38   -0.04547   -0.04548  0.03%   3.1  111s\n",
      "H 9970  1775                      -0.0454727   -0.04548  0.03%   3.0  111s\n",
      " 10256  2169   -0.04547   41  261   -0.04547   -0.04548  0.03%   2.9  120s\n",
      " 10832  2570   -0.04547   79  234   -0.04547   -0.04548  0.03%   2.7  132s\n",
      " 11539  2849   -0.04547   70  248   -0.04547   -0.04548  0.03%   2.6  143s\n",
      " 12100  3300   -0.04548   35  202   -0.04547   -0.04548  0.03%   2.5  154s\n",
      "H12261   900                      -0.0454918   -0.04549  0.00%   2.4  154s\n",
      "\n",
      "Explored 12815 nodes (32343 simplex iterations) in 154.23 seconds (100.54 work units)\n",
      "Thread count was 8 (of 8 available processors)\n",
      "\n",
      "Solution count 10: -0.0454918 -0.0454727 -0.0454499 ... -0.0452121\n",
      "\n",
      "Optimal solution found (tolerance 1.00e-04)\n",
      "Best objective -4.549181947746e-02, best bound -4.549181947746e-02, gap 0.0000%\n"
     ]
    }
   ],
   "source": [
    "m = Model('portfolio')\n",
    "\n",
    "# Add matrix variable for the stocks\n",
    "x = m.addMVar(stocks)\n",
    "z = m.addVars(stocks, vtype=GRB.BINARY, name=\"z\")\n",
    "b = m.addVars(stocks, vtype=GRB.INTEGER, lb=0, name=\"x\")\n",
    "\n",
    "# Objective is to minimize risk (squared).  This is modeled using the\n",
    "# covariance matrix, which measures the historical correlation between stocks\n",
    "portfolio_risk = x @ np.matrix(cov) @ x\n",
    "ret = np.matrix(r.iloc[0]) @ x\n",
    "m.setObjective(portfolio_risk - ret, GRB.MINIMIZE)\n",
    "\n",
    "# Fix budget with a constraint\n",
    "m.addConstr(x.sum() == 1, 'budget')\n",
    "# return is at least 0.1\n",
    "m.addConstr(portfolio_risk <= 0.001, 'return')\n",
    "m.addConstrs((x[i] <= z[i] for i in range(stocks)), \"w<=z\")\n",
    "m.addConstrs((100*x[i] >= z[i] for i in range(stocks)), \"w>=z\")\n",
    "m.addConstr(quicksum(z[i] for i in range(stocks)) == k, \"k\")\n",
    "m.addConstr(quicksum(b[i]*p.iloc[0,i] for i in range(stocks)) <= 300000, \"budget\")\n",
    "m.addConstrs((b[i] >= z[i] for i in range(stocks)), \"x>=fvfav\")\n",
    "m.addConstrs((x[i] == (b[i]*p.iloc[0,i])/300000 for i in range(stocks)), \"w\")\n",
    "m.addConstrs((quicksum(z[i]*s.iloc[i,j] for i in range(stocks)) <= 3 for j in range(len(s.columns))), \"sector\")\n",
    "#m.Params.MIPGap = 0.05\n",
    "\n",
    "m.optimize()"
   ]
  },
  {
   "cell_type": "code",
   "execution_count": 34,
   "metadata": {},
   "outputs": [
    {
     "name": "stdout",
     "output_type": "stream",
     "text": [
      "Optimal objective: -0.045491819477456966\n"
     ]
    }
   ],
   "source": [
    "# print optimal objective\n",
    "print(\"Optimal objective: \" + str(m.objVal))\n",
    "  "
   ]
  },
  {
   "cell_type": "code",
   "execution_count": 6,
   "metadata": {},
   "outputs": [
    {
     "name": "stdout",
     "output_type": "stream",
     "text": [
      "ABBV: 374.0\n",
      "AZO: 4.0\n",
      "BMY: 69.0\n",
      "AVGO: 332.0\n",
      "CHD: 49.0\n",
      "CME: 19.0\n",
      "DLTR: 252.0\n",
      "EIX: 62.0\n",
      "RE: 15.0\n",
      "HIG: 72.0\n",
      "HSY: 31.0\n",
      "IFF: 24.0\n",
      "KMB: 31.0\n",
      "MTCH: 1761.0\n",
      "NEM: 532.0\n",
      "NRG: 82.0\n",
      "ORLY: 9.0\n",
      "O: 53.0\n",
      "RMD: 212.0\n",
      "TTWO: 29.0\n",
      "299999.7555961609\n"
     ]
    }
   ],
   "source": [
    "# print optimal x\n",
    "total = 0\n",
    "for v in m.getVars():\n",
    "    if v.x > 0 and v.varName[0] == 'x':\n",
    "        print(p.columns[int(v.varName.replace(\"x[\",\"\").replace(\"]\",\"\"))] + \": \" + str(v.x))\n",
    "        total += v.x*p.iloc[0,int(v.varName.replace(\"x[\",\"\").replace(\"]\",\"\"))]\n",
    "\n",
    "print(total)"
   ]
  },
  {
   "cell_type": "code",
   "execution_count": null,
   "metadata": {},
   "outputs": [],
   "source": []
  }
 ],
 "metadata": {
  "kernelspec": {
   "display_name": "Python 3.9.12 ('base')",
   "language": "python",
   "name": "python3"
  },
  "language_info": {
   "codemirror_mode": {
    "name": "ipython",
    "version": 3
   },
   "file_extension": ".py",
   "mimetype": "text/x-python",
   "name": "python",
   "nbconvert_exporter": "python",
   "pygments_lexer": "ipython3",
   "version": "3.9.12"
  },
  "orig_nbformat": 4,
  "vscode": {
   "interpreter": {
    "hash": "9065f229f78de392276990b09d69cf52daf9e7892e0a6186d0873b2049073fcb"
   }
  }
 },
 "nbformat": 4,
 "nbformat_minor": 2
}
