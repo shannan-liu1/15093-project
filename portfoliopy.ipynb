{
 "cells": [
  {
   "cell_type": "code",
   "execution_count": 1,
   "metadata": {},
   "outputs": [],
   "source": [
    "# import pandas and gurobi\n",
    "import pandas as pd\n",
    "from gurobipy import *\n",
    "import numpy as np\n"
   ]
  },
  {
   "cell_type": "code",
   "execution_count": 2,
   "metadata": {},
   "outputs": [],
   "source": [
    "# read in csv\n",
    "r = pd.read_csv(\"/Users/zachwayne/Documents/GitHub/15093-project/2019_monthly_data/monthly_returns_2019.csv\")\n",
    "s = pd.read_csv(\"/Users/zachwayne/Documents/GitHub/15093-project/2019_monthly_data/sectors_2019.csv\")\n",
    "p = pd.read_csv(\"/Users/zachwayne/Documents/GitHub/15093-project/2019_monthly_data/monthly_prices_2019.csv\")\n",
    "cor = pd.read_csv(\"/Users/zachwayne/Documents/GitHub/15093-project/2019_monthly_data/corr_2019.csv\")\n",
    "cov = pd.read_csv(\"/Users/zachwayne/Documents/GitHub/15093-project/2019_monthly_data/cov_2019.csv\")\n",
    "cov = cov.drop(columns=['Unnamed: 0'])\n",
    "s = s.drop(columns=['Symbol'])\n",
    "p = p.drop(columns=['Date'])\n",
    "r = r.drop(columns=['Date'])\n",
    "cor = cor.drop(columns=['Unnamed: 0'])"
   ]
  },
  {
   "cell_type": "code",
   "execution_count": 3,
   "metadata": {},
   "outputs": [],
   "source": [
    "# make model\n",
    "stocks = len(s)\n",
    "k = 20"
   ]
  },
  {
   "cell_type": "code",
   "execution_count": 4,
   "metadata": {},
   "outputs": [
    {
     "name": "stdout",
     "output_type": "stream",
     "text": [
      "Set parameter Username\n",
      "Academic license - for non-commercial use only - expires 2023-08-18\n",
      "Gurobi Optimizer version 9.5.2 build v9.5.2rc0 (mac64[rosetta2])\n",
      "Thread count: 8 physical cores, 8 logical processors, using up to 8 threads\n",
      "Optimize a model with 1922 rows, 1431 columns and 5724 nonzeros\n",
      "Model fingerprint: 0xdc7c42a4\n",
      "Model has 114003 quadratic objective terms\n",
      "Model has 1 quadratic constraint\n",
      "Variable types: 477 continuous, 954 integer (477 binary)\n",
      "Coefficient statistics:\n",
      "  Matrix range     [2e-05, 3e+03]\n",
      "  QMatrix range    [1e-08, 1e-01]\n",
      "  Objective range  [6e-04, 3e-01]\n",
      "  QObjective range [2e-08, 2e-01]\n",
      "  Bounds range     [1e+00, 1e+00]\n",
      "  RHS range        [1e+00, 3e+05]\n",
      "  QRHS range       [1e-03, 1e-03]\n",
      "Presolve time: 0.08s\n",
      "Presolved: 1922 rows, 1431 columns, 5724 nonzeros\n",
      "Presolved model has 114003 quadratic objective terms\n",
      "Presolved model has 1 quadratic constraint(s)\n",
      "Variable types: 477 continuous, 954 integer (477 binary)\n",
      "\n",
      "Root relaxation: objective -6.185504e-02, 2215 iterations, 0.02 seconds (0.06 work units)\n",
      "\n",
      "    Nodes    |    Current Node    |     Objective Bounds      |     Work\n",
      " Expl Unexpl |  Obj  Depth IntInf | Incumbent    BestBd   Gap | It/Node Time\n",
      "\n",
      "     0     0   -0.06186    0    4          -   -0.06186      -     -    0s\n",
      "     0     0   -0.05745    0    2          -   -0.05745      -     -    0s\n",
      "     0     0   -0.04897    0    4          -   -0.04897      -     -    0s\n",
      "H    0     0                      -0.0445867   -0.04897  9.83%     -    0s\n",
      "     0     0   -0.04754    0    5   -0.04459   -0.04754  6.63%     -    1s\n",
      "H    0     0                      -0.0452191   -0.04754  5.14%     -    1s\n",
      "H    0     0                      -0.0452624   -0.04754  5.04%     -    1s\n",
      "     0     0   -0.04723    0    5   -0.04526   -0.04723  4.34%     -    1s\n",
      "     0     0   -0.04656    0    5   -0.04526   -0.04656  2.86%     -    1s\n",
      "     0     0   -0.04631    0    5   -0.04526   -0.04631  2.31%     -    1s\n",
      "     0     0   -0.04619    0    6   -0.04526   -0.04619  2.06%     -    1s\n",
      "H    0     0                      -0.0453410   -0.04619  1.88%     -    3s\n",
      "     0     0   -0.04619    0    6   -0.04534   -0.04619  1.88%     -    3s\n",
      "     0     0   -0.04550    0  184   -0.04534   -0.04550  0.35%     -    3s\n",
      "     0     0   -0.04550    0  349   -0.04534   -0.04550  0.34%     -    4s\n",
      "     0     2   -0.04550    0  429   -0.04534   -0.04550  0.34%     -    4s\n",
      "     3     8   -0.04550    2   53   -0.04534   -0.04550  0.34%   0.0    5s\n",
      "   162   216   -0.04549   13  457   -0.04534   -0.04550  0.34%   0.0   10s\n",
      "   328   382   -0.04549   25  514   -0.04534   -0.04550  0.34%   0.0   15s\n",
      "   624   583   -0.04548   49  220   -0.04534   -0.04550  0.34%   0.0   22s\n",
      "   834   706     cutoff   65        -0.04534   -0.04550  0.34%   0.0   26s\n",
      "  1031   850   -0.04549   12  337   -0.04534   -0.04550  0.34%   0.0   31s\n",
      "  1313  1014     cutoff   25        -0.04534   -0.04550  0.34%   0.0   35s\n",
      "  1571  1037   -0.04549   19   76   -0.04534   -0.04550  0.34%   0.0   40s\n",
      "H 1764  1080                      -0.0454064   -0.04550  0.20%   0.0   44s\n",
      "H 1805  1018                      -0.0454260   -0.04550  0.15%   0.0   44s\n",
      "  1816  1024     cutoff   23        -0.04543   -0.04550  0.15%   0.0   45s\n",
      "  2040  1112   -0.04543   45  299   -0.04543   -0.04550  0.15%   0.0   50s\n",
      "  2302  1158     cutoff   27        -0.04543   -0.04550  0.15%   0.0   55s\n",
      "  2594  1269   -0.04545   45  399   -0.04543   -0.04550  0.15%   0.0   60s\n",
      "  2865  1371   -0.04545   63  233   -0.04543   -0.04550  0.15%   0.0   65s\n",
      "  3120  1589   -0.04543   31   31   -0.04543   -0.04550  0.15%   0.0   71s\n",
      "  3502  1917   -0.04543   56  298   -0.04543   -0.04550  0.15%   0.0   78s\n",
      "  3789  2097   -0.04543   84   14   -0.04543   -0.04550  0.15%   0.0   84s\n",
      "  4177  2426   -0.04550   45  384   -0.04543   -0.04550  0.15%   0.0   91s\n",
      "  4719  2855   -0.04549   80  339   -0.04543   -0.04550  0.15%   0.0  101s\n",
      "  5274  3424   -0.04549  125  289   -0.04543   -0.04550  0.15%   0.0  111s\n",
      "  6053  3866   -0.04549  170  268   -0.04543   -0.04550  0.15%   0.0  120s\n",
      "  6721  4461   -0.04544   96    7   -0.04543   -0.04550  0.15%   0.0  129s\n",
      "H 6739  4093                      -0.0454370   -0.04550  0.13%   0.0  129s\n",
      "* 6740  4093             115      -0.0454370   -0.04550  0.13%   0.0  129s\n",
      "H 7446  4568                      -0.0454371   -0.04550  0.13%   0.0  139s\n",
      "H 7670   927                      -0.0454967   -0.04550  0.00%   0.0  139s\n",
      "\n",
      "Explored 8174 nodes (2721 simplex iterations) in 139.48 seconds (108.10 work units)\n",
      "Thread count was 8 (of 8 available processors)\n",
      "\n",
      "Solution count 8: -0.0454967 -0.0454371 -0.045426 ... -0.0445867\n",
      "\n",
      "Optimal solution found (tolerance 1.00e-04)\n",
      "Best objective -4.549672565064e-02, best bound -4.549672565064e-02, gap 0.0000%\n"
     ]
    }
   ],
   "source": [
    "m = Model('portfolio')\n",
    "\n",
    "# Add matrix variable for the stocks\n",
    "x = m.addMVar(stocks)\n",
    "z = m.addVars(stocks, vtype=GRB.BINARY, name=\"z\")\n",
    "b = m.addVars(stocks, vtype=GRB.INTEGER, lb=0, name=\"x\")\n",
    "\n",
    "# Objective is to minimize risk (squared).  This is modeled using the\n",
    "# covariance matrix, which measures the historical correlation between stocks\n",
    "portfolio_risk = x @ np.matrix(cov) @ x\n",
    "ret = np.matrix(r.iloc[0]) @ x\n",
    "m.setObjective(portfolio_risk - ret, GRB.MINIMIZE)\n",
    "\n",
    "# Fix budget with a constraint\n",
    "m.addConstr(x.sum() == 1, 'budget')\n",
    "# return is at least 0.1\n",
    "m.addConstr(portfolio_risk <= 0.001, 'return')\n",
    "m.addConstrs((x[i] <= z[i] for i in range(stocks)), \"w<=z\")\n",
    "m.addConstrs((100*x[i] >= z[i] for i in range(stocks)), \"w>=z\")\n",
    "m.addConstr(quicksum(z[i] for i in range(stocks)) == k, \"k\")\n",
    "m.addConstr(quicksum(b[i]*p.iloc[0,i] for i in range(stocks)) <= 300000, \"budget\")\n",
    "m.addConstrs((b[i] >= z[i] for i in range(stocks)), \"x>=fvfav\")\n",
    "m.addConstrs((x[i] == (b[i]*p.iloc[0,i])/300000 for i in range(stocks)), \"w\")\n",
    "m.addConstrs((quicksum(z[i]*s.iloc[i,j] for i in range(stocks)) <= 3 for j in range(len(s.columns))), \"sector\")\n",
    "#m.Params.MIPGap = 0.05\n",
    "\n",
    "m.optimize()"
   ]
  },
  {
   "cell_type": "code",
   "execution_count": 5,
   "metadata": {},
   "outputs": [
    {
     "name": "stdout",
     "output_type": "stream",
     "text": [
      "Optimal objective: -0.0454967256506353\n"
     ]
    }
   ],
   "source": [
    "# print optimal objective\n",
    "print(\"Optimal objective: \" + str(m.objVal))\n",
    "  "
   ]
  },
  {
   "cell_type": "code",
   "execution_count": 6,
   "metadata": {},
   "outputs": [
    {
     "name": "stdout",
     "output_type": "stream",
     "text": [
      "ABBV: 374.0\n",
      "AZO: 4.0\n",
      "BMY: 69.0\n",
      "AVGO: 332.0\n",
      "CHD: 49.0\n",
      "CME: 19.0\n",
      "DLTR: 252.0\n",
      "EIX: 62.0\n",
      "RE: 15.0\n",
      "HIG: 72.0\n",
      "HSY: 31.0\n",
      "IFF: 24.0\n",
      "KMB: 31.0\n",
      "MTCH: 1761.0\n",
      "NEM: 532.0\n",
      "NRG: 82.0\n",
      "ORLY: 9.0\n",
      "O: 53.0\n",
      "RMD: 212.0\n",
      "TTWO: 29.0\n",
      "299999.7555961609\n"
     ]
    }
   ],
   "source": [
    "# print optimal x\n",
    "total = 0\n",
    "for v in m.getVars():\n",
    "    if v.x > 0 and v.varName[0] == 'x':\n",
    "        print(p.columns[int(v.varName.replace(\"x[\",\"\").replace(\"]\",\"\"))] + \": \" + str(v.x))\n",
    "        total += v.x*p.iloc[0,int(v.varName.replace(\"x[\",\"\").replace(\"]\",\"\"))]\n",
    "\n",
    "print(total)"
   ]
  },
  {
   "cell_type": "code",
   "execution_count": null,
   "metadata": {},
   "outputs": [],
   "source": []
  }
 ],
 "metadata": {
  "kernelspec": {
   "display_name": "Python 3.9.12 ('base')",
   "language": "python",
   "name": "python3"
  },
  "language_info": {
   "codemirror_mode": {
    "name": "ipython",
    "version": 3
   },
   "file_extension": ".py",
   "mimetype": "text/x-python",
   "name": "python",
   "nbconvert_exporter": "python",
   "pygments_lexer": "ipython3",
   "version": "3.9.12"
  },
  "orig_nbformat": 4,
  "vscode": {
   "interpreter": {
    "hash": "9065f229f78de392276990b09d69cf52daf9e7892e0a6186d0873b2049073fcb"
   }
  }
 },
 "nbformat": 4,
 "nbformat_minor": 2
}
