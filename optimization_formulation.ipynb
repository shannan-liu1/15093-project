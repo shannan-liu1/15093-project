{
 "cells": [
  {
   "cell_type": "markdown",
   "metadata": {},
   "source": [
    "# Portfolio Optimization\n",
    "\n",
    "## Variables\n",
    "### Decision Variables\n",
    "- $x_{i}$: weight of stock $i$ in the portfolio at time $t$\n",
    "- $z_{i}$: binary variable indicating whether stock $i$ is in the portfolio at time $t$\n",
    "- $b_{i}$: dollar value of stock $i$ bought at time $t$\n",
    "\n",
    "### Definitions of Other Variables\n",
    "- $r_{it}$: return of stock $i$ at time $t$\n",
    "- $r_t$: return of the portfolio at time $t$\n",
    "- $inventory^i_{t}$: vector whose indices contain number of shares bought for stock $i$ at time $t$ \n",
    "- $V^i_{t}$: trading volume of stock $i$ at time $t$\n",
    "- $sector_{ij}$: binary variable indicating stock $i$ is in sector $j$\n",
    "- $price^i_{t}$: price of stock $i$ at time $t$\n",
    "- $budget_t$: budget at time $t$\n",
    "\n",
    "### Indices\n",
    "- $i$: stock index, $i = 1, 2, ..., N$\n",
    "- $j$: sector index, $j = 1, 2, ..., M$\n",
    "- $t$: time index, $t = 0, 1, 2, ..., T$\n",
    "\n",
    "## Formulation\n",
    "For $t = 1, 2, ..., T$:\n",
    "\n",
    "- if $t = 0$:\n",
    "    - $inventory_{it} = 0 \\forall i$\n",
    "- else:\n",
    "    - $inventory_{t-1} = inventory_{t}$\n",
    "\n",
    "### At every time step $t$, perform the following optimization:\n",
    "$$\\max~~r_t^Tx \\\\ \n",
    "\\\\ \n",
    "\n",
    "\\quad s.t.~~x\\Sigma x \\leq 0.5 \\\\ \n",
    "\\\\\n",
    "\\quad b_i \\times price^i_{t} \\leq budget_t \\\\\n",
    "\\\\\n",
    "\\quad \\sum_{i=1}^N x_i = 1 \\\\ \n",
    "\\\\\n",
    "\\quad \\sum_{i=1}^N(z_i \\times sector_{ij}) \\leq 4,~~ \\forall j \\in \\{1,...,M\\} \\\\ \n",
    "\\\\ \n",
    "\\quad \\sum_{i=1}^N z_i \\geq K \\\\ \n",
    "\\quad z_i + z_j \\leq 1, ~~\\forall i,j\\in \\{1,...,N\\}: |corr(r_i,r_j)| > 0.3, i\\not = j \\\\\n",
    "\\quad b_i - inventory^i_{t-1} \\leq 0.05 \\times V^i_{t}, ~~\\forall i \\in \\{1,...,N\\} \\\\\n",
    "\\quad inventory^i_{t-1} - b_{i} \\leq 0.05 \\times V^i_{t}, ~~\\forall i \\in \\{1,...,N\\} \\\\\n",
    "\\quad x_i \\geq 0, ~~\\forall i \\in \\{1,...,N\\} \\\\\n",
    "\\quad b_i \\geq 0, ~~\\forall i \\in \\{1,...,N\\} \\\\\n",
    "\\quad z_i \\in \\{0,1\\}, ~~\\forall i \\in \\{1,...,N\\} \\\\\n",
    "\n",
    "$$  \\\\\n"
   ]
  }
 ],
 "metadata": {
  "kernelspec": {
   "display_name": "Python 3.9.12 ('base')",
   "language": "python",
   "name": "python3"
  },
  "language_info": {
   "name": "python",
   "version": "3.9.12"
  },
  "orig_nbformat": 4,
  "vscode": {
   "interpreter": {
    "hash": "c575168961fc2b43d0095fd36529aa365e385babdbea041111506e999cf4a810"
   }
  }
 },
 "nbformat": 4,
 "nbformat_minor": 2
}
