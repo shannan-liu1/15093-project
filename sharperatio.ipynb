{
 "cells": [
  {
   "cell_type": "code",
   "execution_count": 1,
   "metadata": {},
   "outputs": [
    {
     "name": "stderr",
     "output_type": "stream",
     "text": [
      "\u001b[32m\u001b[1m    Updating\u001b[22m\u001b[39m registry at `~/.julia/registries/General.toml`\n",
      "\u001b[32m\u001b[1m   Resolving\u001b[22m\u001b[39m package versions...\n",
      "\u001b[32m\u001b[1m  No Changes\u001b[22m\u001b[39m to `~/.julia/environments/v1.7/Project.toml`\n",
      "\u001b[32m\u001b[1m  No Changes\u001b[22m\u001b[39m to `~/.julia/environments/v1.7/Manifest.toml`\n",
      "\u001b[32m\u001b[1m   Resolving\u001b[22m\u001b[39m package versions...\n",
      "\u001b[32m\u001b[1m  No Changes\u001b[22m\u001b[39m to `~/.julia/environments/v1.7/Project.toml`\n",
      "\u001b[32m\u001b[1m  No Changes\u001b[22m\u001b[39m to `~/.julia/environments/v1.7/Manifest.toml`\n",
      "\u001b[32m\u001b[1m   Resolving\u001b[22m\u001b[39m package versions...\n",
      "\u001b[32m\u001b[1m  No Changes\u001b[22m\u001b[39m to `~/.julia/environments/v1.7/Project.toml`\n",
      "\u001b[32m\u001b[1m  No Changes\u001b[22m\u001b[39m to `~/.julia/environments/v1.7/Manifest.toml`\n",
      "\u001b[32m\u001b[1m   Resolving\u001b[22m\u001b[39m package versions...\n",
      "\u001b[32m\u001b[1m  No Changes\u001b[22m\u001b[39m to `~/.julia/environments/v1.7/Project.toml`\n",
      "\u001b[32m\u001b[1m  No Changes\u001b[22m\u001b[39m to `~/.julia/environments/v1.7/Manifest.toml`\n",
      "\u001b[32m\u001b[1m   Resolving\u001b[22m\u001b[39m package versions...\n",
      "\u001b[32m\u001b[1m  No Changes\u001b[22m\u001b[39m to `~/.julia/environments/v1.7/Project.toml`\n",
      "\u001b[32m\u001b[1m  No Changes\u001b[22m\u001b[39m to `~/.julia/environments/v1.7/Manifest.toml`\n",
      "\u001b[32m\u001b[1m   Resolving\u001b[22m\u001b[39m package versions...\n",
      "\u001b[32m\u001b[1m  No Changes\u001b[22m\u001b[39m to `~/.julia/environments/v1.7/Project.toml`\n",
      "\u001b[32m\u001b[1m  No Changes\u001b[22m\u001b[39m to `~/.julia/environments/v1.7/Manifest.toml`\n",
      "\u001b[32m\u001b[1m   Resolving\u001b[22m\u001b[39m package versions...\n",
      "\u001b[32m\u001b[1m  No Changes\u001b[22m\u001b[39m to `~/.julia/environments/v1.7/Project.toml`\n",
      "\u001b[32m\u001b[1m  No Changes\u001b[22m\u001b[39m to `~/.julia/environments/v1.7/Manifest.toml`\n",
      "\u001b[32m\u001b[1m   Resolving\u001b[22m\u001b[39m package versions...\n",
      "\u001b[32m\u001b[1m  No Changes\u001b[22m\u001b[39m to `~/.julia/environments/v1.7/Project.toml`\n",
      "\u001b[32m\u001b[1m  No Changes\u001b[22m\u001b[39m to `~/.julia/environments/v1.7/Manifest.toml`\n",
      "\u001b[32m\u001b[1m   Resolving\u001b[22m\u001b[39m package versions...\n",
      "\u001b[32m\u001b[1m  No Changes\u001b[22m\u001b[39m to `~/.julia/environments/v1.7/Project.toml`\n",
      "\u001b[32m\u001b[1m  No Changes\u001b[22m\u001b[39m to `~/.julia/environments/v1.7/Manifest.toml`\n",
      "\u001b[32m\u001b[1m   Resolving\u001b[22m\u001b[39m package versions...\n",
      "\u001b[32m\u001b[1m  No Changes\u001b[22m\u001b[39m to `~/.julia/environments/v1.7/Project.toml`\n",
      "\u001b[32m\u001b[1m  No Changes\u001b[22m\u001b[39m to `~/.julia/environments/v1.7/Manifest.toml`\n",
      "\u001b[32m\u001b[1m   Resolving\u001b[22m\u001b[39m package versions...\n",
      "\u001b[32m\u001b[1m  No Changes\u001b[22m\u001b[39m to `~/.julia/environments/v1.7/Project.toml`\n",
      "\u001b[32m\u001b[1m  No Changes\u001b[22m\u001b[39m to `~/.julia/environments/v1.7/Manifest.toml`\n",
      "\u001b[32m\u001b[1m   Resolving\u001b[22m\u001b[39m package versions...\n",
      "\u001b[32m\u001b[1m  No Changes\u001b[22m\u001b[39m to `~/.julia/environments/v1.7/Project.toml`\n",
      "\u001b[32m\u001b[1m  No Changes\u001b[22m\u001b[39m to `~/.julia/environments/v1.7/Manifest.toml`\n",
      "\u001b[32m\u001b[1m   Resolving\u001b[22m\u001b[39m package versions...\n",
      "\u001b[32m\u001b[1m  No Changes\u001b[22m\u001b[39m to `~/.julia/environments/v1.7/Project.toml`\n",
      "\u001b[32m\u001b[1m  No Changes\u001b[22m\u001b[39m to `~/.julia/environments/v1.7/Manifest.toml`\n"
     ]
    }
   ],
   "source": [
    "import Pkg\n",
    "\n",
    "package_list = [\"DataFrames\", \"CSV\",\n",
    "\"JuMP\", \"Gurobi\",\n",
    " \"LinearAlgebra\", \"Random\", \"Printf\", \"StatsBase\", \"CategoricalArrays\",\n",
    "  \"Plots\", \"StatsPlots\",\n",
    "  \"Distributions\", \"JLD\"]\n",
    "\n",
    "for pkg_name in package_list\n",
    "    Pkg.add(pkg_name)\n",
    "end"
   ]
  },
  {
   "cell_type": "code",
   "execution_count": 2,
   "metadata": {},
   "outputs": [],
   "source": [
    "using DataFrames, CSV\n",
    "using JLD\n",
    "using JuMP, Gurobi\n",
    "using LinearAlgebra, Random, Printf, StatsBase, CategoricalArrays\n",
    "using Plots, StatsPlots\n",
    "using Distributions"
   ]
  },
  {
   "cell_type": "code",
   "execution_count": 3,
   "metadata": {},
   "outputs": [
    {
     "name": "stdout",
     "output_type": "stream",
     "text": [
      "Set parameter Username\n",
      "Academic license - for non-commercial use only - expires 2023-08-18\n"
     ]
    },
    {
     "data": {
      "text/plain": [
       "Gurobi.Env(Ptr{Nothing} @0x00007faf3e832e00, false, 0)"
      ]
     },
     "execution_count": 3,
     "metadata": {},
     "output_type": "execute_result"
    }
   ],
   "source": [
    "const GRB_ENV = Gurobi.Env()"
   ]
  },
  {
   "cell_type": "code",
   "execution_count": 512,
   "metadata": {},
   "outputs": [
    {
     "data": {
      "text/plain": [
       "0.029339583"
      ]
     },
     "execution_count": 512,
     "metadata": {},
     "output_type": "execute_result"
    }
   ],
   "source": [
    "# read in csv file\n",
    "v = CSV.read(\"/Users/zachwayne/Documents/GitHub/15093-project/volatility.csv\", DataFrame)\n",
    "r = CSV.read(\"/Users/zachwayne/Documents/GitHub/15093-project/returns.csv\", DataFrame)\n",
    "s = CSV.read(\"/Users/zachwayne/Documents/GitHub/15093-project/sectors.csv\", DataFrame)\n",
    "p = CSV.read(\"/Users/zachwayne/Documents/GitHub/15093-project/price.csv\", DataFrame)\n",
    "cor = CSV.read(\"/Users/zachwayne/Documents/GitHub/15093-project/correlations.csv\", DataFrame)\n",
    "cov = CSV.read(\"/Users/zachwayne/Documents/GitHub/15093-project/covariance.csv\", DataFrame)\n",
    "tbill = 0.029339583\n"
   ]
  },
  {
   "cell_type": "code",
   "execution_count": 513,
   "metadata": {},
   "outputs": [
    {
     "data": {
      "text/html": [
       "<div class=\"data-frame\"><p>50 rows × 12 columns (omitted printing of 7 columns)</p><table class=\"data-frame\"><thead><tr><th></th><th>Stock</th><th>Communication Services</th><th>Consumer Discretionary</th><th>Consumer Staples</th><th>Energy</th></tr><tr><th></th><th title=\"String\">String</th><th title=\"Int64\">Int64</th><th title=\"Int64\">Int64</th><th title=\"Int64\">Int64</th><th title=\"Int64\">Int64</th></tr></thead><tbody><tr><th>1</th><td>NTRS</td><td>0</td><td>0</td><td>0</td><td>0</td></tr><tr><th>2</th><td>AVY</td><td>0</td><td>0</td><td>0</td><td>0</td></tr><tr><th>3</th><td>AFL</td><td>0</td><td>0</td><td>0</td><td>0</td></tr><tr><th>4</th><td>REGN</td><td>0</td><td>0</td><td>0</td><td>0</td></tr><tr><th>5</th><td>DAL</td><td>0</td><td>0</td><td>0</td><td>0</td></tr><tr><th>6</th><td>COO</td><td>0</td><td>0</td><td>0</td><td>0</td></tr><tr><th>7</th><td>CME</td><td>0</td><td>0</td><td>0</td><td>0</td></tr><tr><th>8</th><td>BK</td><td>0</td><td>0</td><td>0</td><td>0</td></tr><tr><th>9</th><td>O</td><td>0</td><td>0</td><td>0</td><td>0</td></tr><tr><th>10</th><td>T</td><td>1</td><td>0</td><td>0</td><td>0</td></tr><tr><th>11</th><td>PAYX</td><td>0</td><td>0</td><td>0</td><td>0</td></tr><tr><th>12</th><td>VMC</td><td>0</td><td>0</td><td>0</td><td>0</td></tr><tr><th>13</th><td>LUMN</td><td>1</td><td>0</td><td>0</td><td>0</td></tr><tr><th>14</th><td>APA</td><td>0</td><td>0</td><td>0</td><td>1</td></tr><tr><th>15</th><td>MSFT</td><td>0</td><td>0</td><td>0</td><td>0</td></tr><tr><th>16</th><td>HAL</td><td>0</td><td>0</td><td>0</td><td>1</td></tr><tr><th>17</th><td>ALK</td><td>0</td><td>0</td><td>0</td><td>0</td></tr><tr><th>18</th><td>AKAM</td><td>0</td><td>0</td><td>0</td><td>0</td></tr><tr><th>19</th><td>APTV</td><td>0</td><td>1</td><td>0</td><td>0</td></tr><tr><th>20</th><td>C</td><td>0</td><td>0</td><td>0</td><td>0</td></tr><tr><th>21</th><td>CMCSA</td><td>1</td><td>0</td><td>0</td><td>0</td></tr><tr><th>22</th><td>KDP</td><td>0</td><td>0</td><td>1</td><td>0</td></tr><tr><th>23</th><td>MPWR</td><td>0</td><td>0</td><td>0</td><td>0</td></tr><tr><th>24</th><td>A</td><td>0</td><td>0</td><td>0</td><td>0</td></tr><tr><th>25</th><td>MLM</td><td>0</td><td>0</td><td>0</td><td>0</td></tr><tr><th>26</th><td>SCHW</td><td>0</td><td>0</td><td>0</td><td>0</td></tr><tr><th>27</th><td>PEG</td><td>0</td><td>0</td><td>0</td><td>0</td></tr><tr><th>28</th><td>NVDA</td><td>0</td><td>0</td><td>0</td><td>0</td></tr><tr><th>29</th><td>PPG</td><td>0</td><td>0</td><td>0</td><td>0</td></tr><tr><th>30</th><td>GPN</td><td>0</td><td>0</td><td>0</td><td>0</td></tr><tr><th>&vellip;</th><td>&vellip;</td><td>&vellip;</td><td>&vellip;</td><td>&vellip;</td><td>&vellip;</td></tr></tbody></table></div>"
      ],
      "text/latex": [
       "\\begin{tabular}{r|cccccc}\n",
       "\t& Stock & Communication Services & Consumer Discretionary & Consumer Staples & Energy & \\\\\n",
       "\t\\hline\n",
       "\t& String & Int64 & Int64 & Int64 & Int64 & \\\\\n",
       "\t\\hline\n",
       "\t1 & NTRS & 0 & 0 & 0 & 0 & $\\dots$ \\\\\n",
       "\t2 & AVY & 0 & 0 & 0 & 0 & $\\dots$ \\\\\n",
       "\t3 & AFL & 0 & 0 & 0 & 0 & $\\dots$ \\\\\n",
       "\t4 & REGN & 0 & 0 & 0 & 0 & $\\dots$ \\\\\n",
       "\t5 & DAL & 0 & 0 & 0 & 0 & $\\dots$ \\\\\n",
       "\t6 & COO & 0 & 0 & 0 & 0 & $\\dots$ \\\\\n",
       "\t7 & CME & 0 & 0 & 0 & 0 & $\\dots$ \\\\\n",
       "\t8 & BK & 0 & 0 & 0 & 0 & $\\dots$ \\\\\n",
       "\t9 & O & 0 & 0 & 0 & 0 & $\\dots$ \\\\\n",
       "\t10 & T & 1 & 0 & 0 & 0 & $\\dots$ \\\\\n",
       "\t11 & PAYX & 0 & 0 & 0 & 0 & $\\dots$ \\\\\n",
       "\t12 & VMC & 0 & 0 & 0 & 0 & $\\dots$ \\\\\n",
       "\t13 & LUMN & 1 & 0 & 0 & 0 & $\\dots$ \\\\\n",
       "\t14 & APA & 0 & 0 & 0 & 1 & $\\dots$ \\\\\n",
       "\t15 & MSFT & 0 & 0 & 0 & 0 & $\\dots$ \\\\\n",
       "\t16 & HAL & 0 & 0 & 0 & 1 & $\\dots$ \\\\\n",
       "\t17 & ALK & 0 & 0 & 0 & 0 & $\\dots$ \\\\\n",
       "\t18 & AKAM & 0 & 0 & 0 & 0 & $\\dots$ \\\\\n",
       "\t19 & APTV & 0 & 1 & 0 & 0 & $\\dots$ \\\\\n",
       "\t20 & C & 0 & 0 & 0 & 0 & $\\dots$ \\\\\n",
       "\t21 & CMCSA & 1 & 0 & 0 & 0 & $\\dots$ \\\\\n",
       "\t22 & KDP & 0 & 0 & 1 & 0 & $\\dots$ \\\\\n",
       "\t23 & MPWR & 0 & 0 & 0 & 0 & $\\dots$ \\\\\n",
       "\t24 & A & 0 & 0 & 0 & 0 & $\\dots$ \\\\\n",
       "\t25 & MLM & 0 & 0 & 0 & 0 & $\\dots$ \\\\\n",
       "\t26 & SCHW & 0 & 0 & 0 & 0 & $\\dots$ \\\\\n",
       "\t27 & PEG & 0 & 0 & 0 & 0 & $\\dots$ \\\\\n",
       "\t28 & NVDA & 0 & 0 & 0 & 0 & $\\dots$ \\\\\n",
       "\t29 & PPG & 0 & 0 & 0 & 0 & $\\dots$ \\\\\n",
       "\t30 & GPN & 0 & 0 & 0 & 0 & $\\dots$ \\\\\n",
       "\t$\\dots$ & $\\dots$ & $\\dots$ & $\\dots$ & $\\dots$ & $\\dots$ &  \\\\\n",
       "\\end{tabular}\n"
      ],
      "text/plain": [
       "\u001b[1m50×12 DataFrame\u001b[0m\n",
       "\u001b[1m Row \u001b[0m│\u001b[1m Stock  \u001b[0m\u001b[1m Communication Services \u001b[0m\u001b[1m Consumer Discretionary \u001b[0m\u001b[1m Consumer Staple\u001b[0m ⋯\n",
       "\u001b[1m     \u001b[0m│\u001b[90m String \u001b[0m\u001b[90m Int64                  \u001b[0m\u001b[90m Int64                  \u001b[0m\u001b[90m Int64          \u001b[0m ⋯\n",
       "─────┼──────────────────────────────────────────────────────────────────────────\n",
       "   1 │ NTRS                         0                       0                  ⋯\n",
       "   2 │ AVY                          0                       0\n",
       "   3 │ AFL                          0                       0\n",
       "   4 │ REGN                         0                       0\n",
       "   5 │ DAL                          0                       0                  ⋯\n",
       "   6 │ COO                          0                       0\n",
       "   7 │ CME                          0                       0\n",
       "   8 │ BK                           0                       0\n",
       "   9 │ O                            0                       0                  ⋯\n",
       "  10 │ T                            1                       0\n",
       "  11 │ PAYX                         0                       0\n",
       "  ⋮  │   ⋮               ⋮                       ⋮                    ⋮        ⋱\n",
       "  41 │ PNC                          0                       0\n",
       "  42 │ EQIX                         0                       0                  ⋯\n",
       "  43 │ BR                           0                       0\n",
       "  44 │ CSCO                         0                       0\n",
       "  45 │ CRM                          0                       0\n",
       "  46 │ EQT                          0                       0                  ⋯\n",
       "  47 │ FIS                          0                       0\n",
       "  48 │ ANET                         0                       0\n",
       "  49 │ EXPD                         0                       0\n",
       "  50 │ TRMB                         0                       0                  ⋯\n",
       "\u001b[36m                                                   9 columns and 29 rows omitted\u001b[0m"
      ]
     },
     "execution_count": 513,
     "metadata": {},
     "output_type": "execute_result"
    }
   ],
   "source": [
    "# create new dataframe \n",
    "df = DataFrame(Stock = names(p)[2:end])\n",
    "# column names of df are the column names of s\n",
    "for i=2:12\n",
    "    df[!, names(s)[i]] = s[:,i]\n",
    "end\n",
    "# loop through sector and add row to df if stock names match\n",
    "for i=1:stocks\n",
    "    #loop through column 1 of s\n",
    "    for j=1:50\n",
    "        if s[j,1] == names(p)[i+1]\n",
    "            for k=2:12\n",
    "                df[i, names(s)[k]] = s[j,k]             \n",
    "            end\n",
    "        end\n",
    "    end\n",
    "    \n",
    "end\n",
    "\n",
    "sec=df"
   ]
  },
  {
   "cell_type": "code",
   "execution_count": 534,
   "metadata": {},
   "outputs": [
    {
     "data": {
      "text/plain": [
       "10"
      ]
     },
     "execution_count": 534,
     "metadata": {},
     "output_type": "execute_result"
    }
   ],
   "source": [
    "model = Model(() -> Gurobi.Optimizer(GRB_ENV));\n",
    "stocks=50\n",
    "k = 10"
   ]
  },
  {
   "cell_type": "code",
   "execution_count": 535,
   "metadata": {},
   "outputs": [],
   "source": [
    "@variable(model, x[1:stocks] >= 0, Int)\n",
    "@variable(model, z[1:stocks], Bin);\n",
    "#@variable(model, 0<=w[1:stocks]<=1);\n",
    "@variable(model, y[1:stocks]>=0);\n"
   ]
  },
  {
   "cell_type": "code",
   "execution_count": 536,
   "metadata": {},
   "outputs": [],
   "source": [
    "@constraint(model, linking[i=1:stocks], y[i] <= 1000000*z[i]);  # linking 'bought stock' to 'how many we buy'\n",
    "@constraint(model, linking2[i=1:stocks], y[i] >= z[i]);\n",
    "@constraint(model, linking3[i=1:stocks], sum((y'.*p[:,2:end])[1,i] for i in 1:stocks) <= 300000*sum(y[i] for i=1:stocks));\n",
    "@constraint(model, sum(z[i] for i=1:stocks) == k); \n",
    "@constraint(model,[j=2:12],sum(z[i]*sec[i,j] for i=1:stocks) <= 2);\n",
    "\n",
    "# for all stocks we purchase, their c[i,j] must be <= .3\n",
    "for i=1:stocks\n",
    "    for j=1:stocks\n",
    "        if i != j\n",
    "            @constraint(model, z[i]*z[j]*cor[i,j+1] <= .3)\n",
    "            @constraint(model, z[i]*z[j]*cor[i,j+1] >= -.3)\n",
    "        end\n",
    "    end\n",
    "end\n",
    "@constraint(model, r[:, 2]'*y == 1);"
   ]
  },
  {
   "cell_type": "code",
   "execution_count": 537,
   "metadata": {},
   "outputs": [],
   "source": [
    "#@objective(model, Max, (sum(w[i] * r[i,2] for i=1:stocks)-tbill)/(sum((w[i]^2) * (v[i,2]^2) for i=1:stocks)+2*(sum(w[i]*w[j]*cov[i,j+1] for i=1:stocks, j=i+1:stocks))));\n",
    "#@objective(model, Max, (sum((y[i]^2) * (v[i,2]^2) for i=1:stocks)+2*(sum(y[i]cov[i,j+1]*y[j] for i=1:stocks, j=i+1:stocks))));\n",
    "# Set NonConvex parameter to 2 to solve model.\n",
    "@objective(model, Min, y'*Matrix(cov[:, 2:end])*y);"
   ]
  },
  {
   "cell_type": "code",
   "execution_count": 538,
   "metadata": {},
   "outputs": [
    {
     "name": "stdout",
     "output_type": "stream",
     "text": [
      "Gurobi Optimizer version 9.5.2 build v9.5.2rc0 (mac64[rosetta2])\n",
      "Thread count: 8 physical cores, 8 logical processors, using up to 8 threads\n",
      "Optimize a model with 163 rows, 150 columns and 2850 nonzeros\n",
      "Model fingerprint: 0x26dd242f\n",
      "Model has 1275 quadratic objective terms\n",
      "Model has 4900 quadratic constraints\n",
      "Variable types: 0 continuous, 150 integer (50 binary)\n",
      "Coefficient statistics:\n",
      "  Matrix range     [5e-04, 1e+06]\n",
      "  QMatrix range    [1e-03, 9e-01]\n",
      "  Objective range  [0e+00, 0e+00]\n",
      "  QObjective range [4e-05, 2e-01]\n",
      "  Bounds range     [0e+00, 0e+00]\n",
      "  RHS range        [1e+00, 1e+01]\n",
      "  QRHS range       [3e-01, 3e-01]\n",
      "Presolve removed 53 rows and 50 columns\n",
      "Presolve time: 0.01s\n",
      "Presolved: 1286 rows, 688 columns, 2697 nonzeros\n",
      "Presolved model has 1275 quadratic objective terms\n",
      "Variable types: 0 continuous, 688 integer (638 binary)\n",
      "Warning: 1 variables dropped from basis\n",
      "\n",
      "Root relaxation: objective 5.785211e+00, 339 iterations, 0.00 seconds (0.00 work units)\n",
      "\n",
      "    Nodes    |    Current Node    |     Objective Bounds      |     Work\n",
      " Expl Unexpl |  Obj  Depth IntInf | Incumbent    BestBd   Gap | It/Node Time\n",
      "\n",
      "     0     0    5.78521    0   32          -    5.78521      -     -    0s\n",
      "     0     0    5.86302    0   36          -    5.86302      -     -    0s\n",
      "H    0     0                       9.8139648    5.86302  40.3%     -    0s\n",
      "H    0     0                       9.0332792    5.86302  35.1%     -    0s\n",
      "     0     0    5.87729    0   40    9.03328    5.87729  34.9%     -    0s\n",
      "H    0     0                       8.9851621    5.87729  34.6%     -    0s\n",
      "     0     0    7.02537    0   40    8.98516    7.02537  21.8%     -    0s\n",
      "H    0     0                       8.5511288    7.02537  17.8%     -    0s\n",
      "     0     2    7.02537    0   40    8.55113    7.02537  17.8%     -    0s\n",
      "H  794   589                       8.0095686    7.02537  12.3%   6.0    0s\n",
      "H 1043   528                       7.1060522    7.02537  1.14%   5.7    0s\n",
      "H 2567   757                       7.0760896    7.03812  0.54%   6.2    0s\n",
      "H 4540  1102                       7.0467900    7.03875  0.11%   6.2    0s\n",
      "H 6389   886                       7.0429290    7.03917  0.05%   5.8    0s\n",
      "\n",
      "Cutting planes:\n",
      "  Implied bound: 14\n",
      "  Clique: 2\n",
      "  MIR: 3\n",
      "  Zero half: 8\n",
      "\n",
      "Explored 11407 nodes (57914 simplex iterations) in 0.54 seconds (0.32 work units)\n",
      "Thread count was 8 (of 8 available processors)\n",
      "\n",
      "Solution count 9: 7.04293 7.04679 7.07609 ... 9.81396\n",
      "\n",
      "Optimal solution found (tolerance 1.00e-04)\n",
      "Best objective 7.042929025377e+00, best bound 7.042929025377e+00, gap 0.0000%\n",
      "\n",
      "User-callback calls 23380, time in user-callback 0.00 sec\n"
     ]
    }
   ],
   "source": [
    "optimize!(model);"
   ]
  },
  {
   "cell_type": "code",
   "execution_count": 539,
   "metadata": {},
   "outputs": [
    {
     "data": {
      "text/plain": [
       "50-element Vector{Float64}:\n",
       " -0.0\n",
       " 26.0\n",
       " -0.0\n",
       " -0.0\n",
       " -0.0\n",
       " 13.0\n",
       " -0.0\n",
       " -0.0\n",
       " -0.0\n",
       "  1.0\n",
       " -0.0\n",
       " -0.0\n",
       "  1.0\n",
       "  ⋮\n",
       " -0.0\n",
       " -0.0\n",
       " -0.0\n",
       " 41.0\n",
       " 31.0\n",
       " -0.0\n",
       " -0.0\n",
       " -0.0\n",
       "  0.0\n",
       " -0.0\n",
       " -0.0\n",
       " -0.0"
      ]
     },
     "execution_count": 539,
     "metadata": {},
     "output_type": "execute_result"
    }
   ],
   "source": [
    "z_opt = value.(z)\n",
    "y_opt = value.(y)\n",
    "#"
   ]
  },
  {
   "cell_type": "code",
   "execution_count": 540,
   "metadata": {},
   "outputs": [],
   "source": [
    "# loop through z and print out the stocks we buy\n",
    "for i=1:stocks\n",
    "    if z_opt[i] > 0.1\n",
    "        z_opt[i] = 1\n",
    "    else\n",
    "        z_opt[i] = 0\n",
    "    end\n",
    "\n",
    "end "
   ]
  },
  {
   "cell_type": "code",
   "execution_count": 541,
   "metadata": {},
   "outputs": [],
   "source": [
    "# xi = yi/sum(yi)\n",
    "# loop through y\n",
    "for i=1:stocks\n",
    "    y_opt[i] = y_opt[i]*z_opt[i]\n",
    "end\n",
    "# loop through stocks and caluclate xi\n",
    "x = zeros(stocks)\n",
    "for i=1:stocks\n",
    "    x[i] = y_opt[i]/sum(y_opt)\n",
    "end"
   ]
  },
  {
   "cell_type": "code",
   "execution_count": 542,
   "metadata": {},
   "outputs": [
    {
     "name": "stdout",
     "output_type": "stream",
     "text": [
      "Stock AVY is 16.049382716049383% of portfolio\n",
      "Stock COO is 8.024691358024691% of portfolio\n",
      "Stock T is 0.6172839506172839% of portfolio\n",
      "Stock LUMN is 0.6172839506172839% of portfolio\n",
      "Stock KDP is 0.6172839506172839% of portfolio\n",
      "Stock SCHW is 5.555555555555555% of portfolio\n",
      "Stock NVDA is 22.839506172839506% of portfolio\n",
      "Stock ABBV is 1.2345679012345678% of portfolio\n",
      "Stock EQIX is 25.308641975308642% of portfolio\n",
      "Stock BR is 19.1358024691358% of portfolio\n"
     ]
    }
   ],
   "source": [
    "# loop thorugh x and show which stocks we buy\n",
    "for i=1:stocks\n",
    "    if x[i] > 0\n",
    "        println(\"Stock \", names(p)[i+1], \" is \", x[i]*100, \"% of portfolio\")\n",
    "    end\n",
    "end"
   ]
  },
  {
   "cell_type": "code",
   "execution_count": 532,
   "metadata": {},
   "outputs": [
    {
     "name": "stdout",
     "output_type": "stream",
     "text": [
      "Stock AVY is in sector Materials\n",
      "Stock COO is in sector Health Care\n",
      "Stock T is in sector Communication Services\n",
      "Stock LUMN is in sector Communication Services\n",
      "Stock KDP is in sector Consumer Staples\n",
      "Stock SCHW is in sector Financials\n",
      "Stock NVDA is in sector Information Technology\n",
      "Stock ABBV is in sector Health Care\n",
      "Stock EQIX is in sector Real Estate\n",
      "Stock BR is in sector Information Technology\n"
     ]
    }
   ],
   "source": [
    "# print the sectors we buy\n",
    "for i=1:stocks\n",
    "    if x[i] > 0\n",
    "        #loop through column 1 of s\n",
    "        for j=1:50\n",
    "            if s[j,1] == names(p)[i+1]\n",
    "                for k=2:12\n",
    "                    if s[j,k] == 1\n",
    "                        println(\"Stock \", names(p)[i+1], \" is in sector \", names(s)[k])\n",
    "                    end\n",
    "                end\n",
    "            end\n",
    "        end\n",
    "    end\n",
    "end"
   ]
  }
 ],
 "metadata": {
  "kernelspec": {
   "display_name": "Julia 1.7.3",
   "language": "julia",
   "name": "julia-1.7"
  },
  "language_info": {
   "file_extension": ".jl",
   "mimetype": "application/julia",
   "name": "julia",
   "version": "1.7.3"
  },
  "orig_nbformat": 4
 },
 "nbformat": 4,
 "nbformat_minor": 2
}
